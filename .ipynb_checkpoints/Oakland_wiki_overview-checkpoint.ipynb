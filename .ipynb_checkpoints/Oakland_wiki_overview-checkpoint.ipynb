{
 "cells": [
  {
   "cell_type": "code",
   "execution_count": 1,
   "metadata": {
    "collapsed": true
   },
   "outputs": [],
   "source": [
    "\n",
    "# Libraries need to to run  if you encounter an error try running pip install <libraryname> in your terminal \n",
    "\n",
    "from nltk import *\n",
    "import wikipedia\n",
    "import pandas as pd  \n",
    "\n",
    "# nltk.download('stopwords')\n",
    "# nltk.download('punkt')"
   ]
  },
  {
   "cell_type": "markdown",
   "metadata": {},
   "source": [
    "## Oakland's Wikipedia page most frequent words"
   ]
  },
  {
   "cell_type": "code",
   "execution_count": 2,
   "metadata": {},
   "outputs": [
    {
     "data": {
      "text/plain": [
       "<WikipediaPage 'Oakland, California'>"
      ]
     },
     "execution_count": 2,
     "metadata": {},
     "output_type": "execute_result"
    }
   ],
   "source": [
    "# wikipedia library allows for a simple way to access wikipedia data \n",
    "oak_wiki = wikipedia.page(\"Oakland\")\n",
    "oak_wiki"
   ]
  },
  {
   "cell_type": "code",
   "execution_count": 3,
   "metadata": {},
   "outputs": [
    {
     "data": {
      "text/plain": [
       "'Oakland is the largest city and the county seat of Alameda County, California, United States. A major West Coast port city, Oakland is the largest city in the East Bay region of the San Francisco Bay Area, the third largest city overall in the San Francisco Bay Area, the eighth most populated city in California, and the 45th largest city in the United States. With a population of 425,195 as of  2017, it serves as a trade center for the San Francisco Bay Area; its Port of Oakland is the busiest port in the San Francisco Bay, the entirety of Northern California, and the fifth busiest in the United States of America. An act to incorporate the city was passed on May 4, 1852, and incorporation was later approved on March 25, 1854, which officially made Oakland a city. Oakland is a charter city.Oakland\\'s territory covers what was once a mosaic of California coastal terrace prairie, oak woodland, and north coastal scrub. Its land served as a rich resource when its hillside oak and redwood timber were logged to build San Francisco. Oakland\\'s fertile flatland soils helped it become a prolific agricultural region. In the late 1860s, Oakland was selected as the western terminal of the Transcontinental Railroad. Following the 1906 San Francisco earthquake, many San Francisco citizens moved to Oakland, enlarging the city\\'s population, increasing its housing stock and improving its infrastructure. It continued to grow in the 20th century with its busy port, shipyards, and a thriving automobile manufacturing industry.\\n\\n\\n== History ==\\n\\n\\n=== Pre-incorporation ===\\nThe earliest known inhabitants were the Huchiun Indians, who lived there for thousands of years. The Huchiun belonged to a linguistic grouping later called the Ohlone (a Miwok word meaning \"western people\"). In Oakland, they were concentrated around Lake Merritt and Temescal Creek, a stream that enters the San Francisco Bay at Emeryville.\\nIn 1772, the area that later became Oakland was claimed, with the rest of California,  by Spanish settlers for the King of Spain. In the early 19th century, the Spanish crown granted the East Bay area to Luis María Peralta for his Rancho San Antonio. The grant was confirmed by the successor Mexican republic upon its independence from Spain. Upon his death in 1842, Peralta divided his land among his four sons. Most of Oakland fell within the shares given to Antonio Maria and Vicente. The portion of the parcel that is now Oakland was called Encinal—Spanish for \"oak grove\"—due to the large oak forest that covered the area, which eventually led to the city\\'s name.\\n\\n\\n=== Development of Chinatown ===\\nDuring the 1850s—just as gold was discovered in California—Oakland started growing and developing because land was becoming too expensive in San Francisco. The Chinese were struggling financially, as a result of the First Opium War, the Second Opium War, and the Taiping Rebellion, so they began migrating to Oakland in an effort to provide for their families in China. However, the Chinese struggled to settle because they were discriminated against by the white community and their living quarters were burned down on several occasions. The majority of the Chinese migrants lived in unhealthy conditions in China and they often had diseases, so plague spread into San Francisco even though the Chinese were thoroughly inspected for diseases upon their arrival to San Francisco.\\n\\n\\n=== City beginnings ===\\n\\nIn 1851, three men—Horace Carpentier, Edson Adams, and Andrew Moon—began developing what is now downtown Oakland. In 1852, the Town of Oakland became incorporated by the state legislature. During this time, Oakland had 75-100 inhabitants, two hotels, a wharf, two warehouses, and only cattle trails. Two years later, on March 25, 1854, Oakland re-incorporated as the City of Oakland, with Horace Carpentier elected the first mayor, though a scandal ended his mayorship in less than a year. The city and its environs quickly grew with the railroads, becoming a major rail terminal in the late 1860s and 1870s. In 1868, the Central Pacific constructed the Oakland Long Wharf at Oakland Point, the site of today\\'s Port of Oakland.\\nA number of horsecar and cable car lines were constructed in Oakland during the latter half of the 19th century. The first electric streetcar set out from Oakland to Berkeley in 1891, and other lines were converted and added over the course of the 1890s. The various streetcar companies operating in Oakland were acquired by Francis \"Borax\" Smith and consolidated into what eventually became known as the Key System, the predecessor of today\\'s publicly owned AC Transit.\\n\\n\\n=== 1900–1950s ===\\n\\n\\n==== Plague epidemic ====\\nOakland was one of the worst affected cities in California that was impacted by the plague epidemic. Quarantine measures were set in place at the Oakland ports requiring the authorities at the port to inspect the arriving vessels for the presence of infected rats. Quarantine authorities at these ports inspected over a thousand vessels per year for plague and yellow fever. By 1908, over 5,000 people were detained in quarantine. Hunters were sent to poison the affected areas in Oakland and shoot the squirrels, but the eradication work was limited in its range because the State Board of Health and the United States Public Health Service were only allotted about $60,000 a year to eradicate the disease. During this period Oakland did not have sufficient health facilities, so some of the infected patients were treated at home.The State Board of Health along with Oakland also advised physicians to promptly report any cases of infected patients. Yet, in 1919 it still resulted in a small epidemic of Pneumonic plague which killed a dozen people in Oakland. This started when a man went hunting in Contra Costa Valley and killed a squirrel. After eating the squirrel, he fell ill four days later and another household member contracted the plague. This in turn was passed on either directly or indirectly to about a dozen others. The officials in Oakland acted quickly by issuing death certificates to monitor the spread of plague.\\n\\n\\n==== Incorporation ====\\n\\nAt the time of incorporation in 1852, Oakland had consisted of the territory that lay south of today\\'s major intersection of San Pablo Avenue, Broadway, and Fourteenth Street. The city gradually annexed farmlands and settlements to the east and the north. Oakland\\'s rise to industrial prominence, and its subsequent need for a seaport, led to the digging of a shipping and tidal channel in 1902. This resulted in the nearby town of Alameda being made an island. In 1906, the city\\'s population doubled with refugees made homeless after the 1906 San Francisco earthquake and fire.\\nIn 1908 lawyer, former miner and newspaper owner Homer Wood (1880-1976) suggested to his friend Frank Bilger of Blake and Bilger Rock Quarry and Paving Company that he organize a gathering to establish a Rotary Club east of the bay.  On November 27, 1908 Homer took a ferry across the bay in a driving rainstorm and met for lunch with Frank and twenty three other businessmen at the Hotel Metropole at 13th and Jefferson.  This gathering became the first meeting of the Tri-City Rotary Club, renamed in 1911 The Rotary Club of Oakland, the third Rotary Club in the world. This group established the tradition of weekly meetings, something most clubs worldwide follow today.In 1916, General Motors opened an automobile factory in East Oakland called Oakland Assembly. It produced Chevrolet cars and then GMC trucks until 1963, when it was moved to Fremont in southern Alameda County. Also in 1916, the Fageol Motor Company chose East Oakland for their first factory, manufacturing farming tractors from 1918 to 1923. By 1920, Oakland was the home of numerous manufacturing industries, including metals, canneries, bakeries, internal combustion engines, automobiles, and shipbuilding. By 1929, when Chrysler expanded with a new plant there, Oakland had become known as the \"Detroit of the West,\" referring to the major auto manufacturing center in Michigan.Oakland expanded during the 1920s, as its population expanded with factory workers. Approximately 13,000 homes were built in the 3 years between 1921 and 1924, more than during the 13 years between 1907 and 1920. Many of the large downtown office buildings, apartment buildings, and single-family houses still standing in Oakland were built during the 1920s; they reflect the architectural styles of the time.\\n\\nRussell Clifford Durant established Durant Field at 82nd Avenue and East 14th Street in 1916. The first transcontinental airmail flight finished its journey at Durant Field on August 9, 1920, flown by Army Capt. Eddie Rickenbacker and Navy Lt. Bert Acosta. Durant Field was often called Oakland Airport, though the current Oakland International Airport was soon established four miles (6.4 km) to the southwest.During World War II, the East Bay Area was home to many war-related industries. Oakland\\'s Moore Dry Dock Company expanded its shipbuilding capabilities and built over 100 ships. Valued at $100 million in 1943, Oakland\\'s canning industry was its second-most-valuable war contribution after shipbuilding. The largest canneries were in the Fruitvale District, and included the Josiah Lusk Canning Company, the Oakland Preserving Company (which started the Del Monte brand), and the California Packing Company.President Franklin D. Roosevelt called on defense industries with government contracts to integrate their workforces and provide opportunities for all Americans. Tens of thousands of laborers came from around the country, especially poor whites and blacks from the Deep South: Alabama, Arkansas, Georgia, Louisiana, Mississippi, South Carolina, and Texas, as well as Missouri and Tennessee. Henry J. Kaiser\\'s representatives recruited sharecroppers and tenant farmers from rural areas to work in his shipyards. African Americans were part of the Great Migration by which five million persons left the South, mostly for the West, from 1940 to 1970. White migrants from the Jim Crow South carried their racial attitudes, causing tensions to rise among black and white workers competing for the better-paying jobs in the Bay Area. The racial harmony Oakland blacks had been accustomed to prior to the war evaporated. Also migrating to the area during this time were many Mexican Americans from southwestern states such as New Mexico, Texas, and Colorado. Many worked for the Southern Pacific Railroad, at its major rail yard in West Oakland. Their young men encountered hostility and discrimination by Armed Forces personnel, and tensions broke out in \"zoot suit riots\" in downtown Oakland in 1943 in the wake of a major disturbance in Los Angeles that year.\\n\\nIn 1946, National City Lines (NCL), a General Motors holding company, acquired 64% of Key System stock; during the next several years NCL engaged in the conspiratorial dissolution of Oakland\\'s electric streetcar system. The city\\'s expensive electric streetcar fleet was converted to the cheaper diesel buses. The state Legislature created the Alameda and Contra Costa Transit District in 1955, which operates today as AC Transit, the third-largest bus-only transit system in the nation.Soon after the war, as Oakland\\'s shipbuilding industry declined and the automobile industry went through restructuring, many jobs were lost. Economic competition increased racial tension. In addition, labor unrest increased as workers struggled to protect their livelihoods. Oakland was the center of a general strike during the first week of December 1946, one of six cities across the country that had such a strike after World War II.\\n\\n\\n=== 1960–1999 ===\\nIn 1960, Kaiser Corporation opened its new headquarters; it was the largest skyscraper in Oakland, as well as \"the largest office tower west of Chicago\"  up to that time.  In the postwar period, suburban development increased around Oakland, and wealthier residents moved to new housing. Despite the major increases in the number and proportion of African Americans in the city, in 1966 only 16 of the city\\'s 661 police officers were black. Tensions between the black community and the largely white police force were high, as expectations during the civil rights era increased to gain social justice and equality before the law. Police abuse of blacks was common.Students Huey Newton and Bobby Seale founded the Black Panther Party at Merritt College in Oakland Hills neighborhood, which emphasized black power, advocated armed self-defense against police brutality, and was involved in several incidents that ended in the deaths of police officers and other Black Panther members. Among their social programs were feeding children and providing other services to the needy. During the 1970s, Oakland began to suffer serious violence and other problems related to gang-controlled dealing of heroin and cocaine when drug kingpin Felix Mitchell created the nation\\'s first large-scale operation of this kind.  Both violent crime and property crime increased during this period, and Oakland\\'s murder rate rose to over twice that of San Francisco and New York.As in many other American cities during the 1980s, crack cocaine became a serious problem in Oakland. Drug dealing in general, and the dealing of crack cocaine in particular, resulted in elevated rates of violent crime, causing Oakland to consistently be listed as one of America\\'s most crime-ridden cities.In 1980 Oakland\\'s black population reached its 20th-century peak at approximately 47% of the overall city population.\\nThe 6.9 Mw Loma Prieta earthquake occurred on October 17, 1989. The rupture was related to the San Andreas fault system and affected the entire San Francisco Bay Area with a maximum Mercalli intensity of IX (Violent). Many structures in Oakland were badly damaged including the double-decker portion of Interstate 880 that collapsed. The eastern span of the San Francisco–Oakland Bay Bridge also sustained damage and was closed to traffic for one month.\\nOn October 20, 1991, a massive firestorm swept down from the Berkeley/Oakland hills above the Caldecott Tunnel. Twenty-five people were killed, 150 people were injured, and nearly 4,000 homes destroyed. With the loss of life and an estimated economic loss of US$1.5 billion, this was the worst urban firestorm in American history, until 2017.During the mid-1990s, Oakland\\'s economy began to recover as it transitioned to new types of jobs. In addition, the city participated in large development and urban renewal projects, concentrated especially in the downtown area, at the Port of Oakland, and at the Oakland International Airport.\\n\\n\\n=== 2000s ===\\n\\nAfter his 1999 inauguration, Oakland Mayor Jerry Brown continued his predecessor Elihu Harris\\' public policy of supporting downtown housing development in the area defined as the Central Business District in Oakland\\'s 1998 General Plan.  Brown\\'s plan and other redevelopment projects were controversial due to potential rent increases and gentrification, which would displace lower-income residents from downtown Oakland into outlying neighborhoods and cities.Due to allegations of misconduct by the Oakland Police Department, the City of Oakland has paid claims for a total of US$57 million during the 2001–2011 timeframe to plaintiffs claiming police abuse; this is the largest sum paid by any city in California. On October 10, 2011, protesters and civic activists began \"Occupy Oakland\" demonstrations at Frank Ogawa Plaza in Downtown Oakland.\\n\\n\\n== Geography ==\\n\\nOakland is in the eastern region of the San Francisco Bay. In 1991 the City Hall tower was at 37.805302°N 122.272539°W\\ufeff / 37.805302; -122.272539 (NAD83). (The building still exists, but like the rest of the Bay Area, it has shifted northwest perhaps 0.6 meters in the last twenty years.)\\nThe United States Census Bureau says the city\\'s total area is 78.0 square miles (202 km2), including 55.8 square miles (145 km2) of land and 22.2 square miles (57 km2) (28.48 percent) of water.\\nOakland\\'s highest point is near Grizzly Peak Blvd, east of Berkeley, just over 1,760 feet (540 m) above sea level at about 37.8786°N 122.2241°W\\ufeff / 37.8786; -122.2241. Oakland has 19 miles (31 km) of shoreline, but Radio Beach is the only beach in Oakland.\\nOaklanders refer to their city\\'s terrain as \"the flatlands\" and \"the hills\". Until recent waves of gentrification, these terms also symbolized Oakland\\'s deep economic divide, with \"the hills\" being more affluent communities. About two-thirds of Oakland lies in the flat plain of the East Bay, with one-third rising into the foothills and hills of the East Bay range.\\nRuptures along the nearby San Andreas Fault caused severe earth movement in the San Francisco Bay Area in 1906 and 1989. San Andreas quakes induces creep (movement occurring on earthquake faults) in the Hayward fault, which runs directly through Oakland, Berkeley, San Jose and other Bay Area cities.\\n\\n\\n=== Cityscape ===\\n\\n\\n=== Neighborhoods ===\\n\\nOakland has more than 50 distinct neighborhoods. The city\\'s greater divisions include downtown Oakland and its greater Central Business District, Lake Merritt, East Oakland, North Oakland, West Oakland, and the Oakland Hills. East Oakland, which includes the East Oakland Hills, encompasses more than half of Oakland\\'s land area, stretching from Lakeshore Avenue on the east shore of Lake Merritt southeast to the San Leandro border. North Oakland encompasses the neighborhoods between downtown and Berkeley and Emeryville. West Oakland is the area between downtown and the Bay, partially surrounded by the Oakland Point, and encompassing the Port of Oakland. In 2011, Oakland was ranked the 10th most walkable city in the United States.Lake Merritt, an urban estuary near downtown, is a mix of fresh and salt water draining in and out from the Oakland Harbor at the San Francisco Bay and one of Oakland\\'s most notable features. It was designated the United States\\' first official wildlife refuge in 1870. Originally a marsh-lined wildlife haven, Lake Merritt was dredged and bordered with parks from the 1890s to the 1910s. Despite this reduction in habitat, Oakland is home to a number of rare and endangered species, many of which are localized to serpentine soils and bedrock. Lake Merritt is surrounded by residential and business districts, including downtown and Grand Lake.\\n\\nThe city of Piedmont, incorporated in Oakland\\'s central foothills after the 1906 earthquake, is a small independent city surrounded by the city of Oakland.\\n\\n\\n=== Climate and Vegetation ===\\nOakland has a warm-summer Mediterranean climate with an average of 260 sunny days per year. In general, the city features warm, dry summers, and mild, wet winters. Lake Merritt, a large estuary centrally located east of Downtown, was announced as the United States\\' first official wildlife refuge.\\nBased on data gathered by the National Oceanic and Atmospheric Administration, Oakland is ranked No. 1 in climate among U.S. cities. Oakland\\'s climate is typified by the temperate and seasonal Mediterranean climate. Summers are usually dry and warm and winters are mild and damp. It has features found in both nearby coastal cities such as San Francisco and inland cities such as San Jose, making it warmer than San Francisco and cooler than San Jose. Its position on San Francisco Bay across from the Bay Bridge means the northern part of the city can have cooling maritime fog. It is far enough inland that the fog often burns off by midday, allowing it to have typically sunny California days. The hills tend to have more fog than the flatlands, as the fog drifts down from Berkeley.\\nThe U.S. Weather Bureau kept weather records in downtown Oakland from October 4, 1894, to July 31, 1958.  During that time, the record high temperature was 104 °F (40 °C) on June 24, 1957, and the record low temperature was 24 °F (−4 °C) on January 23, 1949. Dry, warm offshore \"Diablo\" winds (similar to the Santa Ana winds of Southern California) sometimes occur, especially in fall, and raise the fire danger. In 1991, such an episode allowed the catastrophic Oakland Hills fire to spread and consume many homes. The wettest year was 1940 with 38.65 inches (982 mm) and the driest year was 1910 with 12.02 inches (305 mm).  The most rainfall in one month was 15.35 inches (390 mm) in January 1911.  The most rainfall in 24 hours was 4.27 inches (108 mm) on February 12, 1904. Rainfall near the bayfront is only 23 inches (580 mm), but is higher in the Oakland Hills to the east (up to 30 inches [760 mm]).\\nThe higher rainfall in the hills supports woods of oak, madrona, pine, fir and a few redwood groves in the wetter areas. Before being logged in the 19th century, some of the tallest redwood trees in California (used for navigation by ships entering the Golden Gate) may have stood in the Oakland Hills. One old stump 30 feet (9.1 m) in diameter can be seen near Redwood Regional Park.  Sunny, drier slopes are grassy or covered in scattered oaks and chaparral brush. Australian eucalyptus trees have been extensively planted in many areas, as they come from a similar climate.\\nThe National Weather Service today has two official weather stations in Oakland: Oakland International Airport and the Oakland Museum (established 1970).\\n\\n\\n== Demographics ==\\n\\n\\n=== Race and ethnicity ===\\n\\nThe 2010 United States Census reported Oakland had a population of 390,724. The population density was 5,009.2 inhabitants per square mile (1,934.1/km2). The racial makeup of Oakland was 134,925 (34.5%) White (non-Hispanic White 25.9%), 129,471 (28.0%) African American, 3,040 (0.8%) Native American, 65,811 (16.8%) Asian (8.7% Chinese, 2.2% Vietnamese, 1.6% Filipino, 0.7% Cambodian, 0.7% Laotian, 0.6% Korean, 0.5% Japanese, 0.5% Indian, 0.1% Mongolian), 2,222 (0.6%) Pacific Islander (0.3% Tongan), 53,378 (13.7%) from other races, and 21,877 (5.6%) from two or more races.  Hispanic or Latino of any race were 99,068 persons (25.4%). 18.1% of the population were of Mexican descent, 1.9% Salvadoran, 1.3% Guatemalan, and 0.7% Puerto Rican.\\n\\n\\n=== Educational attainment and income ===\\nThe greater Oakland area has the fifth largest cluster of \"elite zip codes\" ranked by the number of households with the highest combination of income and education. 37.9% of residents over 25 years of age have bachelor\\'s degree or higher. Oakland ranked among the top cities with residents with bachelor\\'s degrees and graduate degrees per square mile.Oakland ranks in the top 20 of American cities in median household income, with a 2012 value of US$51,863. In 2012, the median income for a household in the city was US$51,863 and the median income for a family was US$59,459. The mean income for a household was US$77,888 and the mean income for a family was US$90,948. Males had a median income of US$50,140 versus US$50,304 for females. The unemployment rate as of December 2013 was 9.7%.In 2007 approximately 15.3 percent of families and 17.0 percent of the general population were below the poverty line, including 27.9 percent of those under age 18 and 13.1 percent of those age 65 or over.  0.7% of the population is homeless. Home ownership is 41% and 14% of rental units are subsidized.As of the census of 2000, 19.4% of the population and 16.2% of families were below the poverty line.  Out of the total population, 27.9% of those under the age of 18 and 13.1% of those 65 and older were living below the poverty line.\\n\\n\\n=== Households ===\\nThe census reported 382,586 people (97.9% of the population) lived in households, 5,675 (1.5%) lived in non-institutionalized group quarters, and 2,463 (0.6%) were institutionalized.\\nThere were 153,791 households, out of which 44,762 (29.1%) had children under the age of 18 living in them, 50,797 (33.0%) were opposite-sex married couples living together, 24,122 (15.7%) had a female householder with no husband present, 8,799 (5.7%) had a male householder with no wife present.  There were 11,289 (7.3%) unmarried opposite-sex partnerships, and 3,442 (2.2%) same-sex married couples or partnerships. 52,103 households (33.9%) were made up of individuals and 13,778 (9.0%) had someone living alone who was 65 years of age or older. The average household size was 2.49.  There were 83,718 families (54.4% of all households); the average family size was 3.27.\\nThe population was spread out with 83,120 people (21.3%) under the age of 18, 36,272 people (9.3%) aged 18 to 24, 129,139 people (33.1%) aged 25 to 44, 98,634 people (25.2%) aged 45 to 64, and 43,559 people (11.1%) who were 65 years of age or older.  The median age was 36.2 years. For every 100 females, there were 94.2 males.  For every 100 females age 18 and over, there were 91.8 males.\\nThere were 169,710 housing units at an average density of 2,175.7 per square mile (840.0/km2), of which 153,791 were occupied, of which 63,142 (41.1%) were owner-occupied, and 90,649 (58.9%) were occupied by renters. The homeowner vacancy rate was 3.0%; the rental vacancy rate was 8.5%.  166,662 people (42.7% of the population) lived in owner-occupied housing units and 215,924 people (55.3%) lived in rental housing units.\\n\\n\\n=== Shifting of cultures ===\\nOakland is one of the most ethnically diverse major cities in the country. Oakland was ranked the fourth most diverse city in the United States, with an overall diversity score of 91.4. The city\\'s formerly most populous ethnic group, whites, declined from 95.3% in 1940 to 32.5% by 1990, due to a combination of factors, such as racial redlining and suburbanization. Oakland became a destination for African Americans in the Great Migration during and after World War II as they gained high-paying jobs in the defense industry. Recent trends and cultural shifts have led to a decline among some of Oakland\\'s longstanding black institutions, such as churches, businesses and nightclubs, which had developed during the growing years of the 1950s through 1970.Oakland\\'s black population decreased by nearly 25 percent between 2000 and 2010. The city\\'s demographics have changed due to a combination of rising housing prices associated with gentrification and with blacks relocating to better housing in Bay Area suburbs or moving to the Southern United States in a reverse migration, where conditions are considered to have improved. Blacks have formed a plurality in Oakland for many years, peaking in 1980 at about 47% of the population.\\nIn the 2010 census African Americans maintained their status as Oakland\\'s single largest ethnic group, with 27% of the population, followed by non-Hispanic whites at 25.9%, and Hispanics of any race at 25.4%. Ethnic Asians constitute 17%, followed by smaller minority groups.\\nMany immigrants have settled in the city. In recent years, immigrants and others have marched by the thousands down Oakland\\'s International Boulevard in support of legal reforms benefiting undocumented immigrants.An analysis by the Urban Institute of U.S. Census 2000 numbers showed Oakland had the third-highest concentration of gays and lesbians among the 50 largest U.S. cities, behind San Francisco and Seattle. Census data showed that among incorporated places that have at least 500 female couples, Oakland had the nation\\'s largest proportion. In the 2000 census, 2,650 lesbian couples identified as such in Oakland; one in every 41 Oakland couples identified as a same-sex female partnership.\\n\\n\\n== Economy ==\\n\\nOakland is a major West Coast port, and the fifth busiest in the United States by cargo volume. The Port of Oakland handles 99% of all containerized goods moving through Northern California, representing $41 billion worth of international trade. There are nearly 200,000 jobs related to marine cargo transport in the Oakland area.  These jobs range from minimum wage hourly positions to Transportation Storage and Distribution Managers who earn an annual average salary of US$91,520.The Port of Oakland was an early innovator/pioneer in the technologies of Intermodal Containerized Shipping. The city is also home to several major corporations including Kaiser Permanente, Clorox, and Dreyer\\'s ice cream, and retailer Cost Plus World Markets.  Tech companies such as Ask.com and Pandora Radio are in Oakland, and in recent years many start-up high tech and green energy companies have found a home in the downtown neighborhoods of Uptown, City Center, Jack London Square and Lake Merritt Financial District. In 2014, Oakland was the fifth ranked city for tech entrepreneurs by total venture capital investment. In 2015 Uber announced plans to build and house 3,000 employees in a new office at the site of the old Sears building, which is being redeveloped with plans to open in late 2017.As of  2013, the San Francisco-Oakland-Hayward metropolitan area has a gross domestic product (GDP) of US$360.4 billion, ranking eighth among metropolitan areas in the United States. In 2014, Oakland was amongst the best cities to start a career, the highest ranked city in California after San Francisco. Additionally, Oakland ranked fourth in cities with professional opportunities. Numerous companies in San Francisco continue to expand in or migrate over to Oakland.Oakland experienced an increase of both its population and of land values in the early-to-mid first decade of the 21st century.  The 10k Plan, which began during former mayor Elihu Harris\\' administration, and intensified during former mayor Jerry Brown\\'s administration resulted in several thousand units of new multi-family housing and development.\\n\\n\\n=== Top employers ===\\nAs of  2017, the top employers in the city were:\\n\\n\\n== Tourism ==\\n\\nIn 2013, over 2.5 million people visited Oakland, injecting US$1.3 billion into the economy. Oakland has been experiencing an increase in hotel demand. Occupancy is 74%, while RevPAR (Revenue Per Available Room) increased by 14%, the highest increase of any big city in the western region of the United States. Both Oakland and San Francisco were forecasted to experience the highest increases in ADR (Average daily rate).In recent years, Oakland has gained national recognition as a travel destination. In 2012, Oakland was named the top North American city to visit, highlighting its growing number of sophisticated restaurants and bars, top music venues, and increasing nightlife appeal. Oakland also took the No. 16 spot in \"America\\'s Coolest Cities,\" ranked by metrics like entertainment options and recreational opportunities per capita, etc. In 2013, Oakland topped the No. 1 spot in \"America\\'s Most Exciting Cities,\" notably having the most movie theaters, theater companies, and museums per square mile. In \"America\\'s Most Hipster Cities,\" Oakland took the number-5 spot, cited for luring San Francisco \"hippies\" into the city. Oakland has also increased its travel destination allure internationally.\\n\\n\\n=== Arts and culture ===\\nOakland has a significant art scene and claims the highest concentration of artists per capita in the United States. In 2013, Oakland was designated as one of America\\'s top twelve art communities, recognizing Downtown (including Uptown), Chinatown, Old Oakland, and Jack London Square as communities \"that have most successfully combined art, artists and venues for creativity and expression with independent businesses, retail shops and restaurants, and a walkable lifestyle to make vibrant neighborhoods.\" Galleries exist in various parts of Oakland, with the newest additions centered mostly in the Uptown area. Oakland ranked 11th in cities for designers and artists. The city is a renowned culinary hotbed, offering both a wide variety and innovative approaches to diverse cuisines in restaurants and markets, often featuring locally grown produce and international styles such as French, Italian, Portuguese/Spanish, Ethiopian, Asian, Latin American, as well as Caribbean, Southern United States/Louisiana Creole, etc., all of which reflects the culinary traditions of the city\\'s ethnically diverse population. Historically a focal point of the West Coast blues and jazz scenes, Oakland is also home to musicians representing such genres as rhythm and blues, gospel, funk, punk, heavy metal, Rap/Gangsta rap, and hip hop.\\n\\n\\n=== Attractions ===\\n\\nFree walking tours are offered by the City. \\n\\n\\n=== Nightlife ===\\n\\nDowntown Oakland has an assortment of bars and nightclubs. They include dive bars, dance clubs, modern lounges and jazz bars. The Paramount Theater features headlining musical tours and productions, while Fox Oakland Theatre draws various musical genres including jam bands, rock, punk, blues, jazz, and reggae. The Paramount and Fox theaters often book simultaneous events, creating busy nights uptown. In 2012, Oakland was dubbed a \"New Sin City\", following its 2010 decision to relax its cabaret laws, which gave a boost to its nightclub and bar scene.Recent years have seen the growth of the Oakland Art Murmur event, occurring in the Uptown neighborhood the first Friday evening of every month. The event attracts around 20,000 people along twenty city blocks, featuring live performances, food trucks, and over 30 galleries and venues.\\n\\n\\n=== \"There is no there there\" ===\\n\\nGertrude Stein wrote about Oakland in her 1937 book Everybody\\'s Autobiography \"There is no there there,\" upon learning that the neighborhood where she lived as a child had been torn down to make way for an industrial park. The quote is sometimes misconstrued to refer to Oakland as a whole.Modern-day Oakland has made steps to rebuke Stein\\'s claim with a statue downtown titled \"There.\" In 2005 a sculpture called HERETHERE was installed by the City of Berkeley on the Berkeley-Oakland border at Martin Luther King Jr. Way. The sculpture consists of eight-foot-tall letters spelling \"HERE\" and \"THERE\" in front of the BART tracks as they descend from their elevated section in Oakland to the subway through Berkeley.\\n\\n\\n== Sports ==\\nOakland currently has professional teams in three sports: baseball, basketball, and football. The Oakland Athletics MLB club won three consecutive World Series championships in 1972, 1973, and 1974, and appeared in another three consecutive World Series from 1988 to 1990, winning their fourth championship in 1989. The Golden State Warriors won the 1974–75, 2014–15, 2016–17, and the 2017–18 NBA championships, while losing in 2016. The Oakland Raiders of the NFL won Super Bowl XI in 1977, Super Bowl XV in 1981, and Super Bowl XVIII in 1984, while they were in Los Angeles. They also appeared in Super Bowl II in 1968 and Super Bowl XXXVII in 2003. The Raiders left Oakland for Los Angeles in 1982, where they won a third Super Bowl championship and returned to Oakland in 1995. The Warriors announced in April 2014 that they will leave Oakland once their new arena is built across the Bay in San Francisco, while the Raiders are in the process of relocating to Las Vegas. On March 27, 2017, it was confirmed the Raiders would be moving to Las Vegas. On November 28, 2018, the Athletics announced plans to build a new ballpark at Howard Terminal, set to open in 2023.\\n\\nOakland\\'s former sports teams include:\\n\\nOakland Oaks, Pacific Coast League of Baseball, 1903–1955. (The Oaks played at Oaks Park in Emeryville after 1912.)\\nOakland Larks, West Coast Negro Baseball League, 1946.\\nOakland Hornets, member of American Football League (1944)\\nOakland Oaks, American Basketball League, 1962.\\nOakland Oaks, American Basketball Association, 1967–1969.\\nOakland Seals, National Hockey League, 1967–1976.\\nOakland Clippers, National Professional Soccer League, 1967; North American Soccer League, 1968.\\nOakland Stompers, North American Soccer League, 1978.\\nOakland Invaders, United States Football League, 1983–1985.\\nOakland Skates, Roller Hockey International, 1993–1996.\\nOakland Slammers, International Basketball League, 2005–2006.\\n\\n\\n== Parks and recreation ==\\n\\n\\n=== Parks ===\\nOakland has many parks and recreation centers which total 5,937 acres (2,403 ha). In its 2013 ParkScore ranking, The Trust for Public Land, a national land conservation organization, reported that Oakland had the 18th best park system among the 50 most populous U.S. cities. In 2013, Oakland ranked 4th among American cities as an urban destination for nature lovers.Some of the city\\'s most notable parks include:\\n\\nJoaquin Miller Park\\nJoseph Knowland State Arboretum and Park, home of the Oakland Zoo\\nLake Merritt\\nMorcom Rose Garden best from July through October\\nMosswood Park\\nAllendale Park\\nPeralta Hacienda Historical Park, headquarters of the Peralta rancho, Rancho San Antonio\\nWilliam Joseph McInnes Botanic Garden and Campus Arboretum on the Mills College campusAdditionally, the following seven East Bay Regional Parks are entirely or partially in the city of Oakland:\\n\\nAnthony Chabot Regional Park\\nHuckleberry Botanic Regional Preserve\\nLeona Canyon Regional Open Space Preserve\\nRedwood Regional Park\\nRobert Sibley Volcanic Regional Preserve\\nRoberts Regional Recreation Area\\nTemescal Regional Park\\n\\n\\n=== Places of worship ===\\nMajor places of worship in Oakland include Oakland City Church, First Congregational Church of Oakland, Evangelistic Outreach Center, Green Pastures, the Presbyterian, First Presbyterian Church of Oakland; Greek Orthodox Ascension Cathedral; the Roman Catholic Cathedral of Christ the Light; the United Methodist Chinese Community Church; the Unitarian First Unitarian Church; the Church of Jesus Christ of Latter-Day Saints\\' Oakland California Temple; the Muslim, 31st Street Islamic Center, Islamic Cultural Center of Northern California, Light-House Mosque; the Reform Jewish Temple Sinai; the Conservative Jewish, Temple Beth Abraham; Allen Temple Baptist Church; and the Orthodox Jewish, Beth Jacob Congregation, American Baptist; Faith Baptist Church of Oakland, St. Paul Lutheran, His Gospel Christian Fellowship, six Kingdom Halls of Jehovah\\'s Witnesses and St. Vartan Armenian Apostolic Church.\\n\\n\\n== Law and government ==\\n\\nOakland has a mayor-council government. The mayor is elected at-large for a four-year term. The Oakland City Council has eight council members representing seven districts in Oakland with one member elected at-large and others from single-member districts; council members serve staggered four-year terms. The mayor appoints a city administrator, subject to the confirmation by the City Council, who is the city\\'s chief administrative officer. Other city officers include: city attorney (elected), city auditor (elected), and city clerk (appointed by city administrator).  Oakland\\'s mayor is limited to two terms. There are no term limits for the city council. Council member Larry Reid, also serving as vice-mayor, was elected to a fifth term in November 2012.Oakland City Hall was evacuated after the 1989 Loma Prieta earthquake until US$80M seismic retrofit and hazard abatement work was complete in 1995. City offices had to be housed in leased space and other locations.\\nJean Quan was elected mayor in November 2010, beating Don Perata and Rebecca Kaplan in the city\\'s first ranked choice balloting. This new system is intended to increase voters\\' ability to choose preferred candidates, as they can combine ranked votes when several candidates are competing.\\nOakland is also part of Alameda County, for which the Government of Alameda County is defined and authorized under the California Constitution, California law, and the Charter of the County of Alameda. The County government provides countywide services such as elections and voter registration, law enforcement, jails, vital records, property records, tax collection, public health, and social services. The County government is primarily composed of the elected five-member Board of Supervisors, other elected offices including the Sheriff/Coroner, the District Attorney, Assessor, Auditor-Controller/County Clerk/Recorder, and Treasurer/Tax Collector, and numerous county departments and entities under the supervision of the County Administrator.\\nIn the California State Legislature, Oakland is in the  9th Senate District, represented by Democrat Nancy Skinner, and is split between the 15th and 18th Assembly districts, represented by Buffy Wicks and Rob Bonta, respectively. In the United States House of Representatives, Oakland is in California\\'s  13th congressional district, represented by Democrat Barbara Lee.\\n\\n\\n=== Politics ===\\n\\nOakland was a Republican Party bastion from the 1860s to the 1950s, with positions expressed by the Republican-oriented Oakland Tribune newspaper. At the time, the GOP was more moderate than it has become in the 21st century, and some members belonged to a progressive tradition across the Northern Tier of states. In the 1960s, the majority of voters began to favor liberal policies and the Democratic Party. Oakland has the highest percentage of registered Democrats of any of the incorporated cities in Alameda County, with Berkeley coming in a close second.\\nThe last Republican presidential candidate to receive at least one-third of vote in Oakland was Richard Nixon in 1972. Since then, the Republican percentage of the vote has declined in each successive election.\\nAs of  2009, Oakland has 204,646 registered voters. 140,858 (68.8%) are registered Democrats, 12,248 (5.9%) are registered Republicans, 10,431 (5.2%) are members of other parties and 41,109 (20.1%) decline to state a political affiliation. Oakland is widely regarded as being one of the most liberal major cities in the nation. The Cook Partisan Voting Index of Congressional District 13, which includes Oakland and Berkeley, is D+37, making it the most Democratic congressional district in California and the fourth most Democratic district in the US.The city\\'s Democratic bent is no less pronounced at the state and local level. The city\\'s delegation to the state legislature (two assemblymen and one senator) is entirely Democratic. While local elections are officially nonpartisan, nearly all of the city\\'s elected officials are known to be Democrats.\\n\\n\\n=== Crime ===\\n\\nSubstantial progress has been made in reducing the city\\'s historically high crime rate. Gun crime is primarily concentrated in certain poor minority neighborhoods with nearly all homicides committed by guns.  Oakland\\'s crime rate had begun to escalate during the late 1960s; and by the end of the 1970s, during the drug wars, the city\\'s per capita murder rate had risen to twice that of San Francisco or New York City. The primary factor in the rising crime rate has been the dramatic increase of street narcotics sales and use since the 1970s, with Oakland becoming a major west-coast hub for heroin and cocaine distribution. Subsequent battle for control over the lucrative narcotics trade incited gang conflicts and violence, with shootings becoming a regular occurrence. A concurrent rise in rape, robbery, burglary, auto-theft and other crimes occurred as well. Prior to 1960, there had been successful government-funded social programs whereby rebellious teens were enrolled in youth centers that would teach them proper values and improve their behavior, however, similar programs since then have been inconsistent.By the 1970s, the police and Federal Bureau of Investigation(FBI) used military tactics such as SWAT teams, infiltration and counter intelligence in an attempt to counter groups such as the Black Panthers (responsible for several police ambushes), the S.L.A. and organized drug gangs such as the \"69 Mob\", with increases in arrests, prosecutions, and imprisonment. During the first decade of the 21st century, Oakland has consistently been listed as one of the most dangerous large cities in the United States, but in the latter part of the decade, the homicide rate dropped four years in a row, and violent crime in general had dropped 27%. During 2011 there were increases in both categories. In 2012 Oakland reported 131 homicides, the highest number since 2006, when 148 killings were recorded.Since 2012 there have been continued decreases in various categories of crime, including homicides.  In 2013, there was a 33% decline in homicides from the previous year, allowing Oakland to record its lowest homicide count since 2004. Aggravated assaults were down 10%; and rapes declined by 27%, the lowest level of that crime in eight years. In its crime statistics released for the year 2016, the Oakland Police Department reported a total of 93 murders.  That total for 2016 still constitutes a 29% drop in homicides when compared to the city\\'s reported murders for 2012. Homicides declined further in 2017 to 72, the second lowest number of homicides since 1985, as did the number of shootings.Oakland\\'s police force has dropped to 747 officers, down from more than 800 in 2009. It is below the 925 recommended by the city\\'s strategic plan, and far below the approximately 1,200 recommended by an independent study commissioned by the city in the mid-1990s. The city has recently started to rebuild its force and recently graduated 34 officers. The Oakland Police Department is committed to improved public safety by increasing police presence during peak crime hours, improving intelligence gathering, and moving more aggressively to arrest violent crime suspects.Among Oakland\\'s 35 police patrol beats, violent crime remains a serious problem in specific East and West Oakland neighborhoods. In 2008, homicides were concentrated: 72% occurred in three City Council districts, District 3 in West Oakland and Districts 6 and 7 in East Oakland, although these districts have 44% of Oakland\\'s residents.In 2012, Oakland implemented Operation Ceasefire, a gang violence reduction plan used in other cities, based in part on the research and strategies of author David M. Kennedy.\\n\\n\\n== Education ==\\n\\n\\n=== Primary and secondary education ===\\nThe Oakland Unified School District (OUSD), which covers the city except for Sheffield Village, operates most of Oakland\\'s public schools. Due to financial troubles and administrative failures, it was in receivership by the state of California from 2002 to 2008. As of  2015, the Oakland Unified School District includes 86 division-run schools and 32 charter schools; the district also manages several adult education programs. As of  2015 there are 48,181 K–12 students; among division-run schools, there are 4,600 plus employees.OUSD test scores historically lag behind the rest of California, in particular due to a high proportion of English-language learners. Some individual schools have much better performance than the citywide average. As of  2013, for example, over half the students at Hillcrest Elementary School in the Montclair upper hills neighborhood performed at the \"advanced\" level in the English portion of the test, and students at Lincoln Elementary School in the Chinatown neighborhood performed at the \"advanced\" level in the math portion.Oakland\\'s three largest public high schools are Oakland High School, Oakland Technical High School, and Skyline High School. There are also numerous small public high schools within Castlemont Community of Small Schools, Fremont Federation of High Schools, and McClymonds Educational Complex, all of which were once single, larger public high schools that were reorganized due to poor performance (Castlemont High School, Fremont High School, and McClymonds High School, respectively).\\nAmong charter schools in the district, North Oakland Community Charter School (NOCCS), an elementary and middle school, is one of the few public progressive schools in the country. Other charter schools include the Oakland Military Institute, Oakland School for the Arts, Bay Area Technology School, East Bay Innovation Academy, and Oakland Charter Academy.There are several private high schools including the secular The College Preparatory School and Head-Royce School, and the Catholic Bishop O\\'Dowd High School, Holy Names High School and St. Elizabeth High School. Catholic schools in Oakland are operated by the Roman Catholic Diocese of Oakland also include eight K–8 schools (plus one in Piedmont on the Oakland city border). Northern Light School is a private nonprofit elementary and middle school. Bentley School is an Independent Co-educational K–12, college preparatory school on two campuses in Oakland and Lafayette, California.\\n\\n\\n==== Funding ====\\nIn 2017, the Oakland Unified School District has received funding from Pandora in partner with Little Kids Rock, towards expanding music education programs within the schools. The result from these donations has given teachers from 20 additional Oakland- area schools the ability to participate in an eight-hour professional development workshop, and receive music education instruction from Little Kids Rock. The donation includes providing new instruments, that will benefit over 2000 Oakland students.\\n\\n\\n=== Colleges and universities ===\\nAccredited colleges and universities include:\\n\\nOakland is also the home of the headquarters of the University of California system, the University of California Office of the President.\\nIn 2001, the SFSU Oakland Multimedia Center was opened, allowing San Francisco State University to conduct classes near downtown Oakland.  The Oakland Higher Education Consortium and the City of Oakland\\'s Community and Economic Development Agency (CEDA) opened the Oakland Higher Education Center downtown in 2002 to provide \"access to multiple higher education service providers within a shared urban facility.\" Member schools include primary user California State University, East Bay as well as Lincoln University, New College of California, Saint Mary\\'s College of California, SFSU Multimedia Studies Program, UC Berkeley Extension, University of Phoenix and Peralta Community College District.\\n\\n\\n== Media ==\\n\\nOakland is served by major television stations broadcasting primarily out of San Francisco and San Jose. The region\\'s Fox O&O, KTVU 2, is based in (and licensed to) Oakland at Jack London Square along with co-owned independent station KICU-TV 36 (licensed to San Jose). In addition, the city is served by various AM and FM radio stations as well; AM stations KKSF, KMKY, KNEW and KQKE are licensed to Oakland.\\nOakland was served by the Oakland Tribune, which published its first newspaper on February 21, 1874. The Tribune Tower, which features a large clock, is an Oakland landmark. At key times throughout the day (8:00 am, noon and 5:00 pm), the clock tower carillon plays a variety of classic melodies, which change daily.  In 2007, the Oakland Tribune moved its offices from the tower to an East Oakland location, before folding in 2011.The East Bay Express, a locally owned free weekly paper, is based in Jack London Square and distributed throughout the East Bay.\\nOaklandwiki is a thriving (mostly) English-language LocalWiki.\\n\\n\\n== Infrastructure ==\\n\\n\\n=== Transportation ===\\n\\n\\n==== Air and rail ====\\nOakland residents have access to the three major airports of the San Francisco Bay Area: Oakland International Airport, San Francisco International Airport, and San Jose International Airport. Oakland International Airport, within Oakland\\'s city limits, is 4 mi (6.4 km) south of downtown Oakland and serves domestic and international destinations. AC Transit provides 24-hour service to the airport, and BART\\'s Coliseum–Oakland International Airport automated guideway transit line provides frequent service between the airport and Oakland Coliseum station.\\nThe city has regional and long distance passenger train service provided by Amtrak, with stations near Jack London Square and the Oakland–Alameda County Coliseum. Amtrak\\'s California Zephyr has its western terminus at the nearby Emeryville station.\\nHistorically, the city was served by several train companies, which terminated in different terminals. Santa Fe trains terminated at the 40th and San Pablo station. Southern Pacific trains ended at the 16th Street Station. Western Pacific trains ended at the 3rd and Washington station. However, a common feature was that the different railroads continued one more stop to a station at Oakland Pier. From this latter point passengers would ride ferries to San Francisco.\\n\\n\\n==== Mass transit and bicycling ====\\n\\nThe most recent census data compiled in 2007 before gasoline price spikes in 2008, show 24.3 percent of Oaklanders used public transportation, walked or used \"other means\" to commute to work, not including telecommuting, with 17 percent of Oakland households being \"car free\" and/or statistically categorized as having \"no vehicles available.\"Bus transit service in Oakland and the inner East Bay is provided by the Alameda and Contra Costa Transit District, AC Transit.  The district originated in 1958 after the conspiratorial dissolution of the Key System of streetcars. Many AC Transit lines follow old routes of the Key System.Intercity bus companies that serve Oakland include Greyhound, BoltBus, Megabus, USAsia, and Hoang Transportation.The metropolitan area is served by Bay Area Rapid Transit (BART) from eight stations in Oakland. The system has headquarters in Oakland, with major transfer hubs at MacArthur and 19th Street stations. BART\\'s headquarters was in a building above the Lake Merritt BART station until 2006, when it relocated to the Kaiser Center due to seismic safety concerns.\\nThe Alameda / Oakland Ferry operates ferry service from Jack London Square to Alameda, AT&T Park, Pier 41, the San Francisco Ferry Building, and the South San Francisco Ferry Terminal.\\nOakland licenses taxi cabs, and has zoned cab stands in its downtown, including a bicycle pedi-cab service.\\nThe Oakland City Council adopted a Bicycle Master Plan in 1999 as a part of the Land Use and Transportation (LUTE) element of Oakland\\'s 1998 General Plan. The creation of the plan was to promote alternatives to the private automobile. The Oakland City Council reaffirmed the bike plan in 2005, revised it in 2007, and reaffirmed it in 2012. From 1999 to 2007, the city installed 900 bike racks throughout Oakland, accommodating over 2,000 bicycles. By the end of 2017, over 160 bikeway miles and 9,900 bike parking spaces were constructed. Facilities for parking thousands of bicycles have been installed downtown and in other commercial districts throughout Oakland. According to the U.S. Census Bureau\\'s 2011 American Community Survey, Oakland came in 7th place out of the 100 largest cities in the nation by percentage of people that chose to commute by bike in 2011.\\n\\n\\n==== Bridges, freeways, and tunnels ====\\nOakland is served by several major highways: Eastbound Bay Bridge traffic entering Oakland then splits into three freeways at the MacArthur Maze freeway interchange: Interstate 580 (MacArthur Freeway) heads southeast toward Hayward and eventually to the California Central Valley; Interstate 880 (Nimitz Freeway) runs south to San Jose; and the Eastshore Freeway (Interstate 80/I-580) runs north, providing connections to Sacramento and San Rafael, respectively.\\nInterstate 980 (Williams Freeway) begins its eastbound journey at I-880 in Downtown Oakland before turning into State Route 24 (Grove Shafter Freeway) at I-580. State Route 13 begins as the Warren Freeway at I-580, and runs through a scenic valley in the Montclair District before entering Berkeley. A stub of a planned freeway was constructed at the High Street exit from the Nimitz Freeway, but that freeway extension plan was abandoned.\\n\\nAt the time of the 1989 Loma Prieta earthquake, the Cypress Street Viaduct double-deck segment of the Nimitz Freeway collapsed, killing 42 people. The old freeway segment had passed through the middle of West Oakland, forming a barrier between West Oakland neighborhoods. Following the earthquake, this section was rerouted around the perimeter of West Oakland and rebuilt in 1999. The east span of the San Francisco–Oakland Bay Bridge also suffered damage from the quake when a 50-foot (15-m) section of the upper deck collapsed onto the lower deck; the damaged section was repaired within a month of the earthquake. As a result of Loma Prieta, a significant seismic retrofit was performed on the western span of the Bay Bridge. The eastern span has now been replaced with a dramatic single-tower self-anchoring suspension span.\\nTwo underwater tunnels, the Webster and Posey Tubes, connect the main island of Alameda to downtown Oakland, coming above ground in Chinatown. In addition, the Park Street, Fruitvale, and High Street bridges connect Alameda to East Oakland over the Oakland Estuary.\\nIn the hills, the Leimert Bridge crosses Dimond Canyon, connecting the Oakmore neighborhood to Park Boulevard. The Caldecott Tunnel carries Highway 24 through the Berkeley Hills, connecting central Contra Costa County to Oakland. The Caldecott has four bores.\\n\\n\\n=== Freight rail ===\\nFreight service, which consists primarily of moving shipping containers to and from the Port of Oakland, is provided today by Union Pacific Railroad (UP), and to a lesser extent by BNSF Railway (which now shares the tracks of the UP between Richmond and Oakland).\\nHistorically, Oakland was served by several railroads. Besides the transcontinental line of the Southern Pacific, there was also the Santa Fe (whose Oakland terminal was actually in Emeryville), the Western Pacific Railroad (who built a pier adjacent to the SP\\'s), and the Sacramento Northern Railroad (eventually absorbed by the Western Pacific, which in turn was absorbed by UP in 1983).\\n\\n\\n=== Shipping ===\\nAs one of the three major ports on the West Coast of the United States, the Port of Oakland is the largest seaport on San Francisco Bay and the fifth busiest container port in the United States. It was one of the earliest seaports to switch to containerization and to intermodal container transfer, thereby displacing the Port of San Francisco, which never modernized its waterfront. One of the earlier limitations to growth was the inability to transfer containers to rail lines, all cranes historically operating between ocean vessels and trucks. In the 1980s, the Port of Oakland began the evaluation of development of an intermodal container transfer capability, i.e., facilities that now allow trans-loading of containers from vessels to either trucks or rail modes.\\n\\n\\n=== Utilities ===\\nWater and sewage treatment are provided by East Bay Municipal Utility District (EBMUD). Pacific Gas and Electric Company (PG & E) provides natural gas and electricity service. Municipal garbage collection is franchised to Waste Management, Inc. Telecommunications and subscriber television services are provided by multiple private corporations and other service providers in accordance with the competitive objectives of the Telecommunications Act of 1996.\\nOakland tops the list of the 50 largest US cities using electricity from renewable sources.\\n\\n\\n=== Healthcare ===\\n\\nOriginating in Oakland, Kaiser Permanente is an HMO started in 1942, during World War II,  by industrialist Henry J. Kaiser to provide medical care for Kaiser Shipyards workers. It is the largest managed care organization in the United States and the largest non-governmental health care provider in the world. It is headquartered at One Kaiser Plaza in Downtown Oakland and maintains a large medical center in the Piedmont Avenue neighborhood.\\nAlta Bates Summit Medical Center, an East Bay hospital system, maintains its Summit Campus in the neighborhood known as \"Pill Hill\" north of downtown. Until 2000, it was the Summit Medical Center before merging with Berkeley-based Alta Bates. All campuses now operate under the Sutter Health network.\\nAlameda County Medical Center is operated by the county and provides medical services to county residents, including the medically indigent who do not have health insurance. The main campus, Highland Hospital in East Oakland, is the trauma center for the northern area of the East Bay.\\nChildren\\'s Hospital Oakland is the primary medical center specializing in pediatrics in the East Bay. It is a designated Level I pediatric trauma center and the only independent children\\'s hospital in Northern California.\\nThere are also several Community health centers in Oakland. Some examples include Lifelong Medical Care, Asian Health Services, and Roots Community Health Center.\\n\\n\\n== Notable people ==\\n\\n\\n== International relations ==\\n\\n\\n=== Sister cities ===\\nOakland has 12 sister cities:\\n\\n\\n=== Friendship cities ===\\nOakland has 18 friendship cities.:\\n Agadir, Morocco\\n Bahir Dar, Ethiopia\\n Changping District, Beijing, China\\n Chengdu, Sichuan, China\\n Guangzhou, Guangdong, China\\n Haikou, Hainan, China\\n Jing\\'an District, Shanghai, China\\n Jinzhou, Liaoning, China\\n Jurong, Jiangsu, China\\n Maoming, Guangdong, China\\n Mianyang, Sichuan, China\\n Nanning, Guangxi, China\\n Pudong, Shanghai, China\\n Qingdao, Shandong, China\\n Tanggu District, Tianjin, China\\n Ulaanbaatar, Mongolia\\n Weifang, Shandong, China\\n\\n\\n== See also ==\\n\\nList of cities and towns in the San Francisco Bay Area\\nMayors of Oakland\\nOakland tallest buildings\\nOakland Ebonics controversy\\n\\n\\n== References ==\\n\\n\\n== External links ==\\n\\nOfficial website - oaklandca.gov\\nPast official website - oaklandnet.com\\nVisit Oakland: Oakland Convention and Visitors Bureau\\nOakland on LocalWiki\\n\"Oakland\". U.S. City Open Data Census. UK: Open Knowledge Foundation.\\n\"Oakland\". C-SPAN Cities Tour. January 2016.\\nRotary Club of Oakland\\nI live in Oakland: Authentic voices and recommendations'"
      ]
     },
     "execution_count": 3,
     "metadata": {},
     "output_type": "execute_result"
    }
   ],
   "source": [
    "# returns us the entire text content of the wikipedia page\n",
    "oak_wiki.content"
   ]
  },
  {
   "cell_type": "code",
   "execution_count": 4,
   "metadata": {},
   "outputs": [
    {
     "name": "stdout",
     "output_type": "stream",
     "text": [
      "['oakland', 'largest', 'city', 'county', 'seat', 'alameda', 'county', 'california', 'united', 'states', 'major', 'west', 'coast', 'port', 'city', 'oakland', 'largest', 'city', 'east', 'bay', 'region', 'san', 'francisco', 'bay', 'area', 'third', 'largest', 'city', 'overall', 'san', 'francisco', 'bay', 'area', 'eighth', 'populated', 'city', 'california', 'largest', 'city', 'united', 'states', 'population', 'serves', 'trade', 'center', 'san', 'francisco', 'bay', 'area', 'port', 'oakland', 'busiest', 'port', 'san', 'francisco', 'bay', 'entirety', 'northern', 'california', 'fifth', 'busiest', 'united', 'states', 'america', 'act', 'incorporate', 'city', 'passed', 'may', 'incorporation', 'later', 'approved', 'march', 'officially', 'made', 'oakland', 'city', 'oakland', 'charter', 'cityoakland', 'territory', 'covers', 'mosaic', 'california', 'coastal', 'terrace', 'prairie', 'oak', 'woodland', 'north', 'coastal', 'scrub', 'land', 'served', 'rich', 'resource', 'hillside', 'oak', 'redwood', 'timber']\n"
     ]
    }
   ],
   "source": [
    "# tokenize or convert text data into a more useful form for this analysis \n",
    "oakland_tokens = word_tokenize(oak_wiki.content.lower()) # also converting the corpus of words into lower case\n",
    "\n",
    "# removing punctuation from each word\n",
    "import string\n",
    "table = str.maketrans('', '', string.punctuation)\n",
    "\n",
    "no_punc_oakland_tokens = [w.translate(table) for w in oakland_tokens]\n",
    "\n",
    "# remove remaining tokens that are not alphabetic\n",
    "no_number_punc_oakland_tokens = [word for word in no_punc_oakland_tokens if word.isalpha()]\n",
    "\n",
    "\n",
    "# filtering out stop words words such as the, is , etc \n",
    "from nltk.corpus import stopwords\n",
    "stopset = set(stopwords.words('english'))\n",
    "\n",
    "oakland_words = [w for w in no_number_punc_oakland_tokens if not w in stopset]\n",
    "\n",
    "\n",
    "\n",
    "\n",
    "print(oakland_words[:100]) # prints out 100 of the words in the Oakland wikipedia article"
   ]
  },
  {
   "cell_type": "code",
   "execution_count": 5,
   "metadata": {},
   "outputs": [
    {
     "name": "stdout",
     "output_type": "stream",
     "text": [
      "Total Words in Oakland word list is 5612 \n",
      "\n",
      "List of the 50 most common words in our Oakland Wikipedia article\n"
     ]
    },
    {
     "data": {
      "text/plain": [
       "[('oakland', 292),\n",
       " ('city', 90),\n",
       " ('san', 56),\n",
       " ('bay', 43),\n",
       " ('francisco', 37),\n",
       " ('east', 33),\n",
       " ('california', 31),\n",
       " ('area', 31),\n",
       " ('cities', 31),\n",
       " ('downtown', 27),\n",
       " ('district', 25),\n",
       " ('school', 24),\n",
       " ('united', 23),\n",
       " ('states', 22),\n",
       " ('population', 21),\n",
       " ('one', 21),\n",
       " ('high', 21),\n",
       " ('us', 21),\n",
       " ('also', 20),\n",
       " ('schools', 19),\n",
       " ('largest', 18),\n",
       " ('major', 18),\n",
       " ('center', 18),\n",
       " ('years', 18),\n",
       " ('people', 18),\n",
       " ('first', 18),\n",
       " ('county', 16),\n",
       " ('west', 16),\n",
       " ('port', 16),\n",
       " ('many', 16),\n",
       " ('china', 16),\n",
       " ('state', 15),\n",
       " ('new', 15),\n",
       " ('international', 15),\n",
       " ('hills', 15),\n",
       " ('crime', 15),\n",
       " ('american', 15),\n",
       " ('park', 15),\n",
       " ('alameda', 14),\n",
       " ('including', 14),\n",
       " ('police', 14),\n",
       " ('among', 13),\n",
       " ('several', 13),\n",
       " ('square', 13),\n",
       " ('ranked', 13),\n",
       " ('berkeley', 12),\n",
       " ('transit', 12),\n",
       " ('service', 12),\n",
       " ('include', 12),\n",
       " ('freeway', 12)]"
      ]
     },
     "execution_count": 5,
     "metadata": {},
     "output_type": "execute_result"
    }
   ],
   "source": [
    "# returns the most common 50 words and the amount of times used in the Oakland wiki article \n",
    "\n",
    "total_oakland_words = len(oakland_words) # len is a function returning the length of a list\n",
    "\n",
    "print(\"Total Words in Oakland word list is\",total_oakland_words,\"\\n\")\n",
    "print(\"List of the 50 most common words in our Oakland Wikipedia article\" )\n",
    "FreqDist(oakland_words).most_common(50)"
   ]
  },
  {
   "cell_type": "code",
   "execution_count": 6,
   "metadata": {},
   "outputs": [
    {
     "data": {
      "image/png": "[encoded data removed]",
      "text/plain": [
       "<Figure size 1080x1080 with 1 Axes>"
      ]
     },
     "metadata": {},
     "output_type": "display_data"
    }
   ],
   "source": [
    "import matplotlib.pyplot as plt\n",
    "plt.figure(figsize=(15, 15)) \n",
    "\n",
    "FreqDist(oakland_words).plot(\n",
    "    50,)"
   ]
  },
  {
   "cell_type": "code",
   "execution_count": 7,
   "metadata": {},
   "outputs": [
    {
     "name": "stdout",
     "output_type": "stream",
     "text": [
      "Displaying 15 of 15 matches:\n",
      "st largescale operation kind violent crime property crime increased period oakl\n",
      "peration kind violent crime property crime increased period oakland murder rate\n",
      "ular resulted elevated rates violent crime causing oakland consistently listed \n",
      "ty elected officials known democrats crime substantial progress made reducing c\n",
      "made reducing city historically high crime rate gun crime primarily concentrate\n",
      "ity historically high crime rate gun crime primarily concentrated certain poor \n",
      "rly homicides committed guns oakland crime rate begun escalate late end drug wa\n",
      " new york city primary factor rising crime rate dramatic increase street narcot\n",
      " rate dropped four years row violent crime general dropped increases categories\n",
      "ntinued decreases various categories crime including homicides decline homicide\n",
      "assaults rapes declined lowest level crime eight years crime statistics release\n",
      "lined lowest level crime eight years crime statistics released year oakland pol\n",
      "fety increasing police presence peak crime hours improving intelligence gatheri\n",
      "g moving aggressively arrest violent crime suspectsamong oakland police patrol \n",
      " oakland police patrol beats violent crime remains serious problem specific eas\n"
     ]
    }
   ],
   "source": [
    "Text(oakland_words).concordance(\"crime\")"
   ]
  },
  {
   "cell_type": "code",
   "execution_count": 8,
   "metadata": {
    "collapsed": true
   },
   "outputs": [],
   "source": [
    "bigrams = ngrams(oakland_words,2)"
   ]
  },
  {
   "cell_type": "code",
   "execution_count": 9,
   "metadata": {},
   "outputs": [
    {
     "data": {
      "text/plain": [
       "[(('san', 'francisco'), 37),\n",
       " (('united', 'states'), 20),\n",
       " (('east', 'bay'), 16),\n",
       " (('bay', 'area'), 15),\n",
       " (('francisco', 'bay'), 13),\n",
       " (('downtown', 'oakland'), 12),\n",
       " (('port', 'oakland'), 9),\n",
       " (('lake', 'merritt'), 9),\n",
       " (('east', 'oakland'), 9),\n",
       " (('oakland', 'oakland'), 9),\n",
       " (('high', 'school'), 9),\n",
       " (('city', 'oakland'), 8),\n",
       " (('international', 'airport'), 8),\n",
       " (('west', 'oakland'), 8),\n",
       " (('alameda', 'county'), 7),\n",
       " (('oakland', 'city'), 7),\n",
       " (('oakland', 'also'), 7),\n",
       " (('san', 'jose'), 7),\n",
       " (('oakland', 'ranked'), 7),\n",
       " (('league', 'oakland'), 7),\n",
       " (('oakland', 'international'), 6),\n",
       " (('oakland', 'hills'), 6),\n",
       " (('inches', 'mm'), 6),\n",
       " (('jack', 'london'), 6),\n",
       " (('london', 'square'), 6),\n",
       " (('super', 'bowl'), 6),\n",
       " (('city', 'council'), 6),\n",
       " (('west', 'coast'), 5),\n",
       " (('ac', 'transit'), 5),\n",
       " (('rotary', 'club'), 5),\n",
       " (('violent', 'crime'), 5),\n",
       " (('bay', 'bridge'), 5),\n",
       " (('cities', 'oakland'), 5),\n",
       " (('high', 'schools'), 5),\n",
       " (('medical', 'center'), 5),\n",
       " (('largest', 'city'), 4),\n",
       " (('northern', 'california'), 4),\n",
       " (('state', 'legislature'), 4),\n",
       " (('oakland', 'one'), 4),\n",
       " (('contra', 'costa'), 4),\n",
       " (('north', 'oakland'), 4),\n",
       " (('world', 'war'), 4),\n",
       " (('war', 'ii'), 4),\n",
       " (('african', 'americans'), 4),\n",
       " (('loma', 'prieta'), 4),\n",
       " (('oakland', 'police'), 4),\n",
       " (('oakland', 'area'), 4),\n",
       " (('us', 'cities'), 4),\n",
       " (('regional', 'park'), 4),\n",
       " (('per', 'square'), 4)]"
      ]
     },
     "execution_count": 9,
     "metadata": {},
     "output_type": "execute_result"
    }
   ],
   "source": [
    "FreqDist(bigrams).most_common(50)"
   ]
  },
  {
   "cell_type": "code",
   "execution_count": 10,
   "metadata": {},
   "outputs": [
    {
     "data": {
      "text/plain": [
       "[('roots', 1),\n",
       " ('relations', 1),\n",
       " ('agadir', 1),\n",
       " ('morocco', 1),\n",
       " ('bahir', 1),\n",
       " ('dar', 1),\n",
       " ('ethiopia', 1),\n",
       " ('changping', 1),\n",
       " ('beijing', 1),\n",
       " ('chengdu', 1),\n",
       " ('guangzhou', 1),\n",
       " ('haikou', 1),\n",
       " ('hainan', 1),\n",
       " ('jingan', 1),\n",
       " ('jinzhou', 1),\n",
       " ('liaoning', 1),\n",
       " ('jurong', 1),\n",
       " ('jiangsu', 1),\n",
       " ('maoming', 1),\n",
       " ('mianyang', 1),\n",
       " ('nanning', 1),\n",
       " ('guangxi', 1),\n",
       " ('pudong', 1),\n",
       " ('qingdao', 1),\n",
       " ('tanggu', 1),\n",
       " ('tianjin', 1),\n",
       " ('ulaanbaatar', 1),\n",
       " ('mongolia', 1),\n",
       " ('weifang', 1),\n",
       " ('see', 1),\n",
       " ('towns', 1),\n",
       " ('mayors', 1),\n",
       " ('ebonics', 1),\n",
       " ('controversy', 1),\n",
       " ('references', 1),\n",
       " ('external', 1),\n",
       " ('links', 1),\n",
       " ('oaklandcagov', 1),\n",
       " ('past', 1),\n",
       " ('oaklandnetcom', 1),\n",
       " ('convention', 1),\n",
       " ('visitors', 1),\n",
       " ('uk', 1),\n",
       " ('knowledge', 1),\n",
       " ('foundation', 1),\n",
       " ('cspan', 1),\n",
       " ('tour', 1),\n",
       " ('authentic', 1),\n",
       " ('voices', 1),\n",
       " ('recommendations', 1)]"
      ]
     },
     "execution_count": 10,
     "metadata": {},
     "output_type": "execute_result"
    }
   ],
   "source": [
    "# least frequent words \n",
    "FreqDist(oakland_words).most_common()[-50:]"
   ]
  },
  {
   "cell_type": "markdown",
   "metadata": {},
   "source": [
    "## San Francisco's Wikipedia page most frequent words"
   ]
  },
  {
   "cell_type": "code",
   "execution_count": 11,
   "metadata": {},
   "outputs": [
    {
     "name": "stdout",
     "output_type": "stream",
     "text": [
      "['san', 'francisco', 'sf', 'spanish', 'sam', 'fɾanˈsisko', 'spanish', 'saint', 'francis', 'officially', 'city', 'county', 'san', 'francisco', 'cultural', 'commercial', 'financial', 'center', 'northern', 'california', 'san', 'francisco', 'populous', 'city', 'united', 'states', 'fourthmost', 'populous', 'california', 'residents', 'covers', 'area', 'square', 'miles', 'mostly', 'north', 'end', 'san', 'francisco', 'peninsula', 'san', 'francisco', 'bay', 'area', 'making', 'secondmost', 'densely', 'populated', 'large', 'us', 'city', 'fifthmost', 'densely', 'populated', 'us', 'county', 'behind', 'four', 'five', 'new', 'york', 'city', 'boroughs', 'san', 'francisco', 'also', 'part', 'fifthmost', 'populous', 'primary', 'statistical', 'area', 'united', 'states', 'san', 'ca', 'combined', 'statistical', 'area', 'million', 'residents', 'seventhhighest', 'income', 'county', 'united', 'states', 'per', 'capita', 'personal', 'income', 'meaning', 'average', 'san', 'francisco', 'household', 'earned', 'san', 'francisco', 'proper', 'gdp']\n"
     ]
    }
   ],
   "source": [
    "sf_wiki = wikipedia.page(\"San Francisco\")\n",
    "# tokenize or convert text data into a more useful form for this analysis \n",
    "sf_tokens = word_tokenize(sf_wiki.content.lower()) # also converting the corpus of words into lower case\n",
    "\n",
    "# removing punctuation from each word\n",
    "import string\n",
    "table = str.maketrans('', '', string.punctuation)\n",
    "\n",
    "no_punc_sf_tokens = [w.translate(table) for w in sf_tokens]\n",
    "\n",
    "# remove remaining tokens that are not alphabetic\n",
    "no_number_punc_sf_tokens = [word for word in no_punc_sf_tokens if word.isalpha()]\n",
    "\n",
    "\n",
    "# filtering out stop words words such as the, is , etc \n",
    "from nltk.corpus import stopwords\n",
    "stopset = set(stopwords.words('english'))\n",
    "\n",
    "sf_words = [w for w in no_number_punc_sf_tokens if not w in stopset]\n",
    "\n",
    "\n",
    "\n",
    "\n",
    "print(sf_words[:100]) # prints out 100 of the words in the Oakland wikipedia article"
   ]
  },
  {
   "cell_type": "code",
   "execution_count": 12,
   "metadata": {},
   "outputs": [
    {
     "data": {
      "text/plain": [
       "[('san', 304),\n",
       " ('francisco', 281),\n",
       " ('city', 173),\n",
       " ('california', 54),\n",
       " ('bay', 51),\n",
       " ('area', 46),\n",
       " ('population', 40),\n",
       " ('united', 36),\n",
       " ('also', 33),\n",
       " ('states', 30),\n",
       " ('park', 30),\n",
       " ('district', 29),\n",
       " ('us', 27),\n",
       " ('north', 25),\n",
       " ('new', 25),\n",
       " ('golden', 25),\n",
       " ('gate', 24),\n",
       " ('many', 24),\n",
       " ('county', 23),\n",
       " ('center', 23),\n",
       " ('mission', 23),\n",
       " ('first', 23),\n",
       " ('neighborhoods', 23),\n",
       " ('large', 22),\n",
       " ('since', 22),\n",
       " ('major', 21),\n",
       " ('university', 21),\n",
       " ('street', 21),\n",
       " ('south', 21),\n",
       " ('high', 21),\n",
       " ('largest', 20),\n",
       " ('pacific', 20),\n",
       " ('including', 19),\n",
       " ('america', 19),\n",
       " ('west', 18),\n",
       " ('public', 18),\n",
       " ('world', 17),\n",
       " ('people', 17),\n",
       " ('neighborhood', 17),\n",
       " ('national', 17),\n",
       " ('located', 17),\n",
       " ('one', 17),\n",
       " ('residents', 16),\n",
       " ('became', 16),\n",
       " ('state', 16),\n",
       " ('american', 16),\n",
       " ('system', 16),\n",
       " ('hill', 16),\n",
       " ('cities', 16),\n",
       " ('highest', 15)]"
      ]
     },
     "execution_count": 12,
     "metadata": {},
     "output_type": "execute_result"
    }
   ],
   "source": [
    "FreqDist(sf_words).most_common(50)"
   ]
  },
  {
   "cell_type": "markdown",
   "metadata": {},
   "source": [
    "## Comparing Distinctive words between SF and Oakland by difference of proportions"
   ]
  },
  {
   "cell_type": "code",
   "execution_count": 13,
   "metadata": {
    "collapsed": true
   },
   "outputs": [],
   "source": [
    "# converts our words into vectors and counts \n",
    "from sklearn.feature_extraction.text import CountVectorizer\n",
    "\n",
    "countvec = CountVectorizer()"
   ]
  },
  {
   "cell_type": "code",
   "execution_count": 14,
   "metadata": {
    "collapsed": true
   },
   "outputs": [],
   "source": [
    "# making a list of a list of the words for SF's and Oakland's wikipage \n",
    "text_list = []\n",
    "text_list.append(sf_wiki.content)\n",
    "text_list.append(oak_wiki.content)\n"
   ]
  },
  {
   "cell_type": "code",
   "execution_count": 15,
   "metadata": {},
   "outputs": [
    {
     "data": {
      "text/html": [
       "<div>\n",
       "<style>\n",
       "    .dataframe thead tr:only-child th {\n",
       "        text-align: right;\n",
       "    }\n",
       "\n",
       "    .dataframe thead th {\n",
       "        text-align: left;\n",
       "    }\n",
       "\n",
       "    .dataframe tbody tr th {\n",
       "        vertical-align: top;\n",
       "    }\n",
       "</style>\n",
       "<table border=\"1\" class=\"dataframe\">\n",
       "  <thead>\n",
       "    <tr style=\"text-align: right;\">\n",
       "      <th></th>\n",
       "      <th>00</th>\n",
       "      <th>000</th>\n",
       "      <th>009</th>\n",
       "      <th>01</th>\n",
       "      <th>017</th>\n",
       "      <th>02</th>\n",
       "      <th>031</th>\n",
       "      <th>040</th>\n",
       "      <th>06</th>\n",
       "      <th>06631</th>\n",
       "      <th>...</th>\n",
       "      <th>zebra</th>\n",
       "      <th>zephyr</th>\n",
       "      <th>zeppelin</th>\n",
       "      <th>zip</th>\n",
       "      <th>zipcar</th>\n",
       "      <th>zone</th>\n",
       "      <th>zoned</th>\n",
       "      <th>zoo</th>\n",
       "      <th>zoopraxiscope</th>\n",
       "      <th>zoot</th>\n",
       "    </tr>\n",
       "  </thead>\n",
       "  <tbody>\n",
       "    <tr>\n",
       "      <th>0</th>\n",
       "      <td>0</td>\n",
       "      <td>32</td>\n",
       "      <td>0</td>\n",
       "      <td>1</td>\n",
       "      <td>1</td>\n",
       "      <td>0</td>\n",
       "      <td>1</td>\n",
       "      <td>0</td>\n",
       "      <td>2</td>\n",
       "      <td>1</td>\n",
       "      <td>...</td>\n",
       "      <td>1</td>\n",
       "      <td>0</td>\n",
       "      <td>1</td>\n",
       "      <td>0</td>\n",
       "      <td>1</td>\n",
       "      <td>1</td>\n",
       "      <td>0</td>\n",
       "      <td>1</td>\n",
       "      <td>1</td>\n",
       "      <td>0</td>\n",
       "    </tr>\n",
       "    <tr>\n",
       "      <th>1</th>\n",
       "      <td>2</td>\n",
       "      <td>8</td>\n",
       "      <td>1</td>\n",
       "      <td>0</td>\n",
       "      <td>0</td>\n",
       "      <td>1</td>\n",
       "      <td>0</td>\n",
       "      <td>1</td>\n",
       "      <td>0</td>\n",
       "      <td>0</td>\n",
       "      <td>...</td>\n",
       "      <td>0</td>\n",
       "      <td>1</td>\n",
       "      <td>0</td>\n",
       "      <td>1</td>\n",
       "      <td>0</td>\n",
       "      <td>0</td>\n",
       "      <td>1</td>\n",
       "      <td>1</td>\n",
       "      <td>0</td>\n",
       "      <td>1</td>\n",
       "    </tr>\n",
       "  </tbody>\n",
       "</table>\n",
       "<p>2 rows × 4381 columns</p>\n",
       "</div>"
      ],
      "text/plain": [
       "   00  000  009  01  017  02  031  040  06  06631  ...   zebra  zephyr  \\\n",
       "0   0   32    0   1    1   0    1    0   2      1  ...       1       0   \n",
       "1   2    8    1   0    0   1    0    1   0      0  ...       0       1   \n",
       "\n",
       "   zeppelin  zip  zipcar  zone  zoned  zoo  zoopraxiscope  zoot  \n",
       "0         1    0       1     1      0    1              1     0  \n",
       "1         0    1       0     0      1    1              0     1  \n",
       "\n",
       "[2 rows x 4381 columns]"
      ]
     },
     "execution_count": 15,
     "metadata": {},
     "output_type": "execute_result"
    }
   ],
   "source": [
    "# I convert our list of words into a csv with the 0th row being SF and the 1st row being oakland\n",
    "#  each column contains the number of times that word appears\n",
    "cities_df = pd.DataFrame(countvec.fit_transform(text_list).toarray(), columns=countvec.get_feature_names())\n",
    "cities_df"
   ]
  },
  {
   "cell_type": "code",
   "execution_count": 16,
   "metadata": {
    "collapsed": true
   },
   "outputs": [],
   "source": [
    "# I add across rows to get the total word count per row \n",
    "cities_df['word_count'] = cities_df.sum(axis = 1)"
   ]
  },
  {
   "cell_type": "code",
   "execution_count": 17,
   "metadata": {},
   "outputs": [
    {
     "data": {
      "text/html": [
       "<div>\n",
       "<style>\n",
       "    .dataframe thead tr:only-child th {\n",
       "        text-align: right;\n",
       "    }\n",
       "\n",
       "    .dataframe thead th {\n",
       "        text-align: left;\n",
       "    }\n",
       "\n",
       "    .dataframe tbody tr th {\n",
       "        vertical-align: top;\n",
       "    }\n",
       "</style>\n",
       "<table border=\"1\" class=\"dataframe\">\n",
       "  <thead>\n",
       "    <tr style=\"text-align: right;\">\n",
       "      <th></th>\n",
       "      <th>00</th>\n",
       "      <th>000</th>\n",
       "      <th>009</th>\n",
       "      <th>01</th>\n",
       "      <th>017</th>\n",
       "      <th>02</th>\n",
       "      <th>031</th>\n",
       "      <th>040</th>\n",
       "      <th>06</th>\n",
       "      <th>06631</th>\n",
       "      <th>...</th>\n",
       "      <th>zephyr</th>\n",
       "      <th>zeppelin</th>\n",
       "      <th>zip</th>\n",
       "      <th>zipcar</th>\n",
       "      <th>zone</th>\n",
       "      <th>zoned</th>\n",
       "      <th>zoo</th>\n",
       "      <th>zoopraxiscope</th>\n",
       "      <th>zoot</th>\n",
       "      <th>word_count</th>\n",
       "    </tr>\n",
       "  </thead>\n",
       "  <tbody>\n",
       "    <tr>\n",
       "      <th>0</th>\n",
       "      <td>0.000000</td>\n",
       "      <td>0.002586</td>\n",
       "      <td>0.000000</td>\n",
       "      <td>0.000081</td>\n",
       "      <td>0.000081</td>\n",
       "      <td>0.000000</td>\n",
       "      <td>0.000081</td>\n",
       "      <td>0.000000</td>\n",
       "      <td>0.000162</td>\n",
       "      <td>0.000081</td>\n",
       "      <td>...</td>\n",
       "      <td>0.000000</td>\n",
       "      <td>0.000081</td>\n",
       "      <td>0.000000</td>\n",
       "      <td>0.000081</td>\n",
       "      <td>0.000081</td>\n",
       "      <td>0.000000</td>\n",
       "      <td>0.000081</td>\n",
       "      <td>0.000081</td>\n",
       "      <td>0.000000</td>\n",
       "      <td>1.0</td>\n",
       "    </tr>\n",
       "    <tr>\n",
       "      <th>1</th>\n",
       "      <td>0.000212</td>\n",
       "      <td>0.000846</td>\n",
       "      <td>0.000106</td>\n",
       "      <td>0.000000</td>\n",
       "      <td>0.000000</td>\n",
       "      <td>0.000106</td>\n",
       "      <td>0.000000</td>\n",
       "      <td>0.000106</td>\n",
       "      <td>0.000000</td>\n",
       "      <td>0.000000</td>\n",
       "      <td>...</td>\n",
       "      <td>0.000106</td>\n",
       "      <td>0.000000</td>\n",
       "      <td>0.000106</td>\n",
       "      <td>0.000000</td>\n",
       "      <td>0.000000</td>\n",
       "      <td>0.000106</td>\n",
       "      <td>0.000106</td>\n",
       "      <td>0.000000</td>\n",
       "      <td>0.000106</td>\n",
       "      <td>1.0</td>\n",
       "    </tr>\n",
       "  </tbody>\n",
       "</table>\n",
       "<p>2 rows × 4382 columns</p>\n",
       "</div>"
      ],
      "text/plain": [
       "         00       000       009        01       017        02       031  \\\n",
       "0  0.000000  0.002586  0.000000  0.000081  0.000081  0.000000  0.000081   \n",
       "1  0.000212  0.000846  0.000106  0.000000  0.000000  0.000106  0.000000   \n",
       "\n",
       "        040        06     06631     ...        zephyr  zeppelin       zip  \\\n",
       "0  0.000000  0.000162  0.000081     ...      0.000000  0.000081  0.000000   \n",
       "1  0.000106  0.000000  0.000000     ...      0.000106  0.000000  0.000106   \n",
       "\n",
       "     zipcar      zone     zoned       zoo  zoopraxiscope      zoot  word_count  \n",
       "0  0.000081  0.000081  0.000000  0.000081       0.000081  0.000000         1.0  \n",
       "1  0.000000  0.000000  0.000106  0.000106       0.000000  0.000106         1.0  \n",
       "\n",
       "[2 rows x 4382 columns]"
      ]
     },
     "execution_count": 17,
     "metadata": {},
     "output_type": "execute_result"
    }
   ],
   "source": [
    "# I divide each column by its corresponding total word count to get frequencies\n",
    "cities_df = cities_df.iloc[:,:].div(cities_df.word_count, axis=0)\n",
    "cities_df"
   ]
  },
  {
   "cell_type": "code",
   "execution_count": 18,
   "metadata": {},
   "outputs": [
    {
     "data": {
      "text/html": [
       "<div>\n",
       "<style>\n",
       "    .dataframe thead tr:only-child th {\n",
       "        text-align: right;\n",
       "    }\n",
       "\n",
       "    .dataframe thead th {\n",
       "        text-align: left;\n",
       "    }\n",
       "\n",
       "    .dataframe tbody tr th {\n",
       "        vertical-align: top;\n",
       "    }\n",
       "</style>\n",
       "<table border=\"1\" class=\"dataframe\">\n",
       "  <thead>\n",
       "    <tr style=\"text-align: right;\">\n",
       "      <th></th>\n",
       "      <th>00</th>\n",
       "      <th>000</th>\n",
       "      <th>009</th>\n",
       "      <th>01</th>\n",
       "      <th>017</th>\n",
       "      <th>02</th>\n",
       "      <th>031</th>\n",
       "      <th>040</th>\n",
       "      <th>06</th>\n",
       "      <th>06631</th>\n",
       "      <th>...</th>\n",
       "      <th>zephyr</th>\n",
       "      <th>zeppelin</th>\n",
       "      <th>zip</th>\n",
       "      <th>zipcar</th>\n",
       "      <th>zone</th>\n",
       "      <th>zoned</th>\n",
       "      <th>zoo</th>\n",
       "      <th>zoopraxiscope</th>\n",
       "      <th>zoot</th>\n",
       "      <th>word_count</th>\n",
       "    </tr>\n",
       "  </thead>\n",
       "  <tbody>\n",
       "    <tr>\n",
       "      <th>0</th>\n",
       "      <td>0.000000</td>\n",
       "      <td>0.002586</td>\n",
       "      <td>0.000000</td>\n",
       "      <td>0.000081</td>\n",
       "      <td>0.000081</td>\n",
       "      <td>0.000000</td>\n",
       "      <td>0.000081</td>\n",
       "      <td>0.000000</td>\n",
       "      <td>0.000162</td>\n",
       "      <td>0.000081</td>\n",
       "      <td>...</td>\n",
       "      <td>0.000000</td>\n",
       "      <td>0.000081</td>\n",
       "      <td>0.000000</td>\n",
       "      <td>0.000081</td>\n",
       "      <td>0.000081</td>\n",
       "      <td>0.000000</td>\n",
       "      <td>0.000081</td>\n",
       "      <td>0.000081</td>\n",
       "      <td>0.000000</td>\n",
       "      <td>1.0</td>\n",
       "    </tr>\n",
       "    <tr>\n",
       "      <th>1</th>\n",
       "      <td>0.000212</td>\n",
       "      <td>0.000846</td>\n",
       "      <td>0.000106</td>\n",
       "      <td>0.000000</td>\n",
       "      <td>0.000000</td>\n",
       "      <td>0.000106</td>\n",
       "      <td>0.000000</td>\n",
       "      <td>0.000106</td>\n",
       "      <td>0.000000</td>\n",
       "      <td>0.000000</td>\n",
       "      <td>...</td>\n",
       "      <td>0.000106</td>\n",
       "      <td>0.000000</td>\n",
       "      <td>0.000106</td>\n",
       "      <td>0.000000</td>\n",
       "      <td>0.000000</td>\n",
       "      <td>0.000106</td>\n",
       "      <td>0.000106</td>\n",
       "      <td>0.000000</td>\n",
       "      <td>0.000106</td>\n",
       "      <td>1.0</td>\n",
       "    </tr>\n",
       "    <tr>\n",
       "      <th>2</th>\n",
       "      <td>-0.000212</td>\n",
       "      <td>0.001740</td>\n",
       "      <td>-0.000106</td>\n",
       "      <td>0.000081</td>\n",
       "      <td>0.000081</td>\n",
       "      <td>-0.000106</td>\n",
       "      <td>0.000081</td>\n",
       "      <td>-0.000106</td>\n",
       "      <td>0.000162</td>\n",
       "      <td>0.000081</td>\n",
       "      <td>...</td>\n",
       "      <td>-0.000106</td>\n",
       "      <td>0.000081</td>\n",
       "      <td>-0.000106</td>\n",
       "      <td>0.000081</td>\n",
       "      <td>0.000081</td>\n",
       "      <td>-0.000106</td>\n",
       "      <td>-0.000025</td>\n",
       "      <td>0.000081</td>\n",
       "      <td>-0.000106</td>\n",
       "      <td>0.0</td>\n",
       "    </tr>\n",
       "  </tbody>\n",
       "</table>\n",
       "<p>3 rows × 4382 columns</p>\n",
       "</div>"
      ],
      "text/plain": [
       "         00       000       009        01       017        02       031  \\\n",
       "0  0.000000  0.002586  0.000000  0.000081  0.000081  0.000000  0.000081   \n",
       "1  0.000212  0.000846  0.000106  0.000000  0.000000  0.000106  0.000000   \n",
       "2 -0.000212  0.001740 -0.000106  0.000081  0.000081 -0.000106  0.000081   \n",
       "\n",
       "        040        06     06631     ...        zephyr  zeppelin       zip  \\\n",
       "0  0.000000  0.000162  0.000081     ...      0.000000  0.000081  0.000000   \n",
       "1  0.000106  0.000000  0.000000     ...      0.000106  0.000000  0.000106   \n",
       "2 -0.000106  0.000162  0.000081     ...     -0.000106  0.000081 -0.000106   \n",
       "\n",
       "     zipcar      zone     zoned       zoo  zoopraxiscope      zoot  word_count  \n",
       "0  0.000081  0.000081  0.000000  0.000081       0.000081  0.000000         1.0  \n",
       "1  0.000000  0.000000  0.000106  0.000106       0.000000  0.000106         1.0  \n",
       "2  0.000081  0.000081 -0.000106 -0.000025       0.000081 -0.000106         0.0  \n",
       "\n",
       "[3 rows x 4382 columns]"
      ]
     },
     "execution_count": 18,
     "metadata": {},
     "output_type": "execute_result"
    }
   ],
   "source": [
    "# I then create a row of difference in proprtions of words allowing us to see the most distinctive words between SF and Oakland  \n",
    "cities_df.loc[2] = cities_df.loc[0] - cities_df.loc[1]\n",
    "cities_df"
   ]
  },
  {
   "cell_type": "code",
   "execution_count": 19,
   "metadata": {},
   "outputs": [
    {
     "data": {
      "text/plain": [
       "san           0.019779\n",
       "francisco     0.019370\n",
       "the           0.015139\n",
       "of            0.008330\n",
       "city          0.004738\n",
       "is            0.003949\n",
       "than          0.002094\n",
       "mission       0.001859\n",
       "gate          0.001834\n",
       "golden        0.001809\n",
       "000           0.001740\n",
       "on            0.001434\n",
       "located       0.001349\n",
       "for           0.001234\n",
       "more          0.001205\n",
       "hill          0.001187\n",
       "as            0.001145\n",
       "california    0.001142\n",
       "popular       0.001131\n",
       "population    0.001093\n",
       "university    0.001063\n",
       "market        0.001051\n",
       "since         0.001038\n",
       "with          0.001016\n",
       "america       0.000982\n",
       "978           0.000970\n",
       "isbn          0.000970\n",
       "north         0.000963\n",
       "museum        0.000945\n",
       "south         0.000932\n",
       "                ...   \n",
       "church       -0.000952\n",
       "plan         -0.000977\n",
       "council      -0.000977\n",
       "black        -0.000977\n",
       "by           -0.000987\n",
       "census       -0.001002\n",
       "police       -0.001076\n",
       "schools      -0.001120\n",
       "had          -0.001139\n",
       "they         -0.001157\n",
       "merritt      -0.001163\n",
       "hills        -0.001182\n",
       "port         -0.001207\n",
       "us           -0.001263\n",
       "crime        -0.001288\n",
       "alameda      -0.001425\n",
       "china        -0.001530\n",
       "school       -0.001568\n",
       "berkeley     -0.001586\n",
       "during       -0.001668\n",
       "downtown     -0.001724\n",
       "there        -0.001830\n",
       "at           -0.001937\n",
       "cities       -0.002197\n",
       "to           -0.002616\n",
       "east         -0.002762\n",
       "in           -0.003111\n",
       "were         -0.003280\n",
       "was          -0.003810\n",
       "oakland      -0.031789\n",
       "Name: 2, Length: 4382, dtype: float64"
      ]
     },
     "execution_count": 19,
     "metadata": {},
     "output_type": "execute_result"
    }
   ],
   "source": [
    "# words with positive values are more distinct to SF's wiki page\n",
    "# while words with negative values are moredistinct to Oakland's wiki page \n",
    "cities_df.loc[2].sort_values(ascending=False)"
   ]
  },
  {
   "cell_type": "code",
   "execution_count": 20,
   "metadata": {
    "scrolled": false
   },
   "outputs": [
    {
     "data": {
      "text/plain": [
       "san              0.034760\n",
       "francisco        0.034035\n",
       "city             0.008358\n",
       "mission          0.003265\n",
       "gate             0.003221\n",
       "golden           0.003178\n",
       "located          0.002370\n",
       "hill             0.002086\n",
       "california       0.002019\n",
       "popular          0.001987\n",
       "population       0.001928\n",
       "university       0.001869\n",
       "market           0.001845\n",
       "america          0.001727\n",
       "isbn             0.001703\n",
       "north            0.001695\n",
       "museum           0.001660\n",
       "south            0.001640\n",
       "neighborhoods    0.001597\n",
       "oclc             0.001561\n",
       "class            0.001561\n",
       "park             0.001479\n",
       "island           0.001475\n",
       "financial        0.001475\n",
       "valley           0.001431\n",
       "gay              0.001419\n",
       "local            0.001333\n",
       "economy          0.001289\n",
       "ucsf             0.001278\n",
       "presidio         0.001278\n",
       "                   ...   \n",
       "ranked          -0.001416\n",
       "elected         -0.001427\n",
       "age             -0.001427\n",
       "served          -0.001483\n",
       "kaiser          -0.001483\n",
       "general         -0.001526\n",
       "lake            -0.001613\n",
       "years           -0.001632\n",
       "include         -0.001656\n",
       "transit         -0.001656\n",
       "church          -0.001668\n",
       "council         -0.001711\n",
       "black           -0.001711\n",
       "plan            -0.001711\n",
       "census          -0.001755\n",
       "police          -0.001885\n",
       "schools         -0.001960\n",
       "th              -0.002015\n",
       "merritt         -0.002039\n",
       "hills           -0.002070\n",
       "port            -0.002113\n",
       "crime           -0.002255\n",
       "alameda         -0.002496\n",
       "china           -0.002681\n",
       "school          -0.002744\n",
       "berkeley        -0.002780\n",
       "downtown        -0.003016\n",
       "cities          -0.003845\n",
       "east            -0.004838\n",
       "oakland         -0.055703\n",
       "Name: 2, Length: 3744, dtype: float64"
      ]
     },
     "execution_count": 20,
     "metadata": {},
     "output_type": "execute_result"
    }
   ],
   "source": [
    "# this time I take care to remove numbers along with stop words and repeat the process I did above\n",
    "countvec_cities = CountVectorizer(preprocessor=lambda x: re.sub(r'(\\d[\\d\\.])+', '', x.lower()),stop_words=\"english\") \n",
    "# countvec_cities  = CountVectorizer(stop_words=\"english\")\n",
    "\n",
    "#same as code above\n",
    "cities_df_sw = pd.DataFrame(countvec_cities.fit_transform(text_list).toarray(), columns=countvec_cities.get_feature_names())\n",
    "cities_df_sw['word_count'] = cities_df_sw.sum(axis=1)\n",
    "cities_df_sw = cities_df_sw.iloc[:,0:].div(cities_df_sw.word_count, axis=0)\n",
    "cities_df_sw.loc[2] = cities_df_sw.loc[0] - cities_df_sw.loc[1]\n",
    "cities_df_sw.loc[2].sort_values(axis=0, ascending=False)"
   ]
  },
  {
   "cell_type": "code",
   "execution_count": 21,
   "metadata": {
    "collapsed": true
   },
   "outputs": [],
   "source": [
    "from wordcloud import WordCloud, STOPWORDS, ImageColorGenerator"
   ]
  },
  {
   "cell_type": "code",
   "execution_count": null,
   "metadata": {
    "collapsed": true
   },
   "outputs": [],
   "source": [
    "WordCloud.generate_from_text"
   ]
  }
 ],
 "metadata": {
  "kernelspec": {
   "display_name": "Python 3",
   "language": "python",
   "name": "python3"
  },
  "language_info": {
   "codemirror_mode": {
    "name": "ipython",
    "version": 3
   },
   "file_extension": ".py",
   "mimetype": "text/x-python",
   "name": "python",
   "nbconvert_exporter": "python",
   "pygments_lexer": "ipython3",
   "version": "3.6.3"
  }
 },
 "nbformat": 4,
 "nbformat_minor": 2
}
